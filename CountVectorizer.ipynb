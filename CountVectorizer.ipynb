{
 "cells": [
  {
   "cell_type": "code",
   "execution_count": 13,
   "metadata": {},
   "outputs": [
    {
     "name": "stdout",
     "output_type": "stream",
     "text": [
      "[[0 1 1 1 0 0 1 0 1]]\n"
     ]
    },
    {
     "data": {
      "text/plain": [
       "array(['and', 'document', 'first', 'is', 'one', 'second', 'the', 'third',\n",
       "       'this'], dtype=object)"
      ]
     },
     "execution_count": 13,
     "metadata": {},
     "output_type": "execute_result"
    }
   ],
   "source": [
    "from sklearn.feature_extraction.text import CountVectorizer\n",
    "corpus = [\n",
    "    'This is the first document.',\n",
    "    'This document is the second document.',\n",
    "    'And this is the third one.',\n",
    "    'Is this the first document?',\n",
    "]\n",
    "vectorizer = CountVectorizer()\n",
    "X = vectorizer.fit_transform(corpus)\n",
    "print(X[0].toarray())\n",
    "vectorizer.get_feature_names_out()\n",
    "\n",
    "#vectorizer2 = CountVectorizer(analyzer='word', ngram_range=(2, 2))\n",
    "#X2 = vectorizer2.fit_transform(corpus)\n",
    "#vectorizer2.get_feature_names_out()"
   ]
  },
  {
   "cell_type": "code",
   "execution_count": 68,
   "metadata": {},
   "outputs": [
    {
     "name": "stdout",
     "output_type": "stream",
     "text": [
      "{8: 'this', 3: 'is', 6: 'the', 2: 'first', 1: 'document', 5: 'second', 0: 'and', 7: 'third', 4: 'one'}\n"
     ]
    }
   ],
   "source": [
    "import pandas as pd\n",
    "text = ['This is the first document.','This document is the second document.','and this is the third one.', 'Is this the first document?',]\n",
    "coun_vect = CountVectorizer()\n",
    "count_matrix = coun_vect.fit_transform(text)\n",
    "count_array = count_matrix.toarray()\n",
    "df = pd.DataFrame(data=count_array,columns = coun_vect.get_feature_names_out())\n",
    "\n",
    "token2idx = vectorizer.vocabulary_\n",
    "#print(type(token2idx))\n",
    "#print(token2idx)\n",
    "#for i in token2idx:\n",
    "     #print(i)\n",
    "#for i in token2idx:\n",
    " # print(token2idx.items())\n",
    "   #idx2token = {idx: token for token, idx in token2idx.items()}\n",
    "   #print(idx2token)\n",
    "#print(idx2token)\n",
    "#print(coun_vect.vocabulary_)\n",
    "\n",
    "a=''\n",
    "b=''\n",
    "idx2token = {}\n",
    "#print(len(token2idx))\n",
    "for x,y in token2idx.items():\n",
    "  idx2token.update({y: x})\n",
    "\n",
    "\n",
    "#print(x,y)\n",
    "print(idx2token)\n",
    "\n",
    " \n",
    "\n",
    "\n"
   ]
  },
  {
   "cell_type": "code",
   "execution_count": null,
   "metadata": {},
   "outputs": [],
   "source": []
  }
 ],
 "metadata": {
  "kernelspec": {
   "display_name": "Python 3",
   "language": "python",
   "name": "python3"
  },
  "language_info": {
   "codemirror_mode": {
    "name": "ipython",
    "version": 3
   },
   "file_extension": ".py",
   "mimetype": "text/x-python",
   "name": "python",
   "nbconvert_exporter": "python",
   "pygments_lexer": "ipython3",
   "version": "3.11.4"
  }
 },
 "nbformat": 4,
 "nbformat_minor": 2
}
